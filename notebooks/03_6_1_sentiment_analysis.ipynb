{
 "cells": [
  {
   "cell_type": "markdown",
   "id": "a1282058",
   "metadata": {},
   "source": [
    "# Sentiment analysis with Vader\n",
    "\n",
    "Similar to other task in this project, the task of sentiment analysis is done per single dataset."
   ]
  },
  {
   "cell_type": "code",
   "execution_count": null,
   "id": "b94a620a",
   "metadata": {},
   "outputs": [],
   "source": [
    "from datetime import date\n",
    "import os\n",
    "import sys\n",
    "import polars as pl\n",
    "\n",
    "sys.path.append(os.path.abspath(os.path.join(os.getcwd(), \"..\")))\n",
    "import config\n",
    "from paths import Paths\n",
    "from src.sentiment_analysis import get_compound_parallel\n",
    "\n",
    "channel_paths = Paths(channel_handle=config.channel_handle, date_obj=date(2025, 9, 6))"
   ]
  },
  {
   "cell_type": "markdown",
   "id": "7d722f19",
   "metadata": {},
   "source": [
    "### Loading single dataset in polars"
   ]
  },
  {
   "cell_type": "code",
   "execution_count": 49,
   "id": "0b97e190",
   "metadata": {},
   "outputs": [
    {
     "name": "stdout",
     "output_type": "stream",
     "text": [
      "465_750 total comments lodaded.\n"
     ]
    }
   ],
   "source": [
    "comments = pl.read_parquet(channel_paths.clean_comments_file_path, columns=[\"comment\"])[\"comment\"].to_list()\n",
    "print(f\"{len(comments):_} total comments lodaded.\")"
   ]
  },
  {
   "cell_type": "markdown",
   "id": "082befe2",
   "metadata": {},
   "source": [
    "### Running parallel task across multiple processors"
   ]
  },
  {
   "cell_type": "code",
   "execution_count": null,
   "id": "fe3dcc21",
   "metadata": {},
   "outputs": [
    {
     "data": {
      "application/vnd.jupyter.widget-view+json": {
       "model_id": "2dd33ce1cb054d428acfc57c4473ee1d",
       "version_major": 2,
       "version_minor": 0
      },
      "text/plain": [
       "  0%|          | 0/465750 [00:00<?, ?it/s]"
      ]
     },
     "metadata": {},
     "output_type": "display_data"
    }
   ],
   "source": [
    "cpu_count = 8\n",
    "compound_scores = get_compound_parallel(comments, cpu_count)"
   ]
  },
  {
   "cell_type": "markdown",
   "id": "a9b4da01",
   "metadata": {},
   "source": [
    "### Add column and save back to parquet"
   ]
  },
  {
   "cell_type": "code",
   "execution_count": 51,
   "id": "389dfd2e",
   "metadata": {},
   "outputs": [],
   "source": [
    "# Read\n",
    "df = pl.read_parquet(channel_paths.clean_comments_file_path)\n",
    "\n",
    "# Add column\n",
    "df = df.with_columns(pl.Series(\"sentiment_score\", compound_scores))"
   ]
  },
  {
   "cell_type": "code",
   "execution_count": 52,
   "id": "81f8b453",
   "metadata": {},
   "outputs": [],
   "source": [
    "# Write\n",
    "df.write_parquet(channel_paths.clean_comments_file_path)"
   ]
  }
 ],
 "metadata": {
  "kernelspec": {
   "display_name": "youtube-nlp",
   "language": "python",
   "name": "python3"
  },
  "language_info": {
   "codemirror_mode": {
    "name": "ipython",
    "version": 3
   },
   "file_extension": ".py",
   "mimetype": "text/x-python",
   "name": "python",
   "nbconvert_exporter": "python",
   "pygments_lexer": "ipython3",
   "version": "3.10.18"
  }
 },
 "nbformat": 4,
 "nbformat_minor": 5
}
