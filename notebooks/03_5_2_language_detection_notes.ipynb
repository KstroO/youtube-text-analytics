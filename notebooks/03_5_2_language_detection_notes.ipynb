{
 "cells": [
  {
   "cell_type": "markdown",
   "id": "0eda2048",
   "metadata": {},
   "source": [
    "# (Optional) Some aditional notes for the language detection process"
   ]
  },
  {
   "cell_type": "code",
   "execution_count": null,
   "id": "fb7836b5",
   "metadata": {},
   "outputs": [],
   "source": [
    "from langdetect import DetectorFactory, detect_langs\n",
    "from collections import Counter\n",
    "from datetime import date\n",
    "import polars as pl\n",
    "import random\n",
    "import sys\n",
    "import os\n",
    "\n",
    "# Langdetect seed\n",
    "DetectorFactory.seed = 0\n",
    "\n",
    "sys.path.append(os.path.abspath(os.path.join(os.getcwd(), \"..\")))\n",
    "import config\n",
    "from paths import Paths\n",
    "from src.lang_detect import detect_parallel\n",
    "\n",
    "# change this for a dataset that you have\n",
    "# date_obj = date(2025, 9, 10)\n",
    "date_obj = date.today()\n",
    "channel_paths = Paths(channel_handle=config.channel_handle, date_obj=date_obj)"
   ]
  },
  {
   "cell_type": "markdown",
   "id": "6cd1ef93",
   "metadata": {},
   "source": [
    "Translate a single comment, remember to place the seed, to get consistent results across multiple runs"
   ]
  },
  {
   "cell_type": "code",
   "execution_count": 2,
   "id": "2ef6be99",
   "metadata": {},
   "outputs": [
    {
     "data": {
      "text/plain": [
       "[en:0.9999973504224122]"
      ]
     },
     "execution_count": 2,
     "metadata": {},
     "output_type": "execute_result"
    }
   ],
   "source": [
    "detect_langs(\"I love programming in python.\")"
   ]
  },
  {
   "cell_type": "markdown",
   "id": "213419cf",
   "metadata": {},
   "source": [
    "Tiny sample of what we will be translating"
   ]
  },
  {
   "cell_type": "code",
   "execution_count": 3,
   "id": "ccdccc61",
   "metadata": {},
   "outputs": [],
   "source": [
    "comments = pl.read_parquet(channel_paths.clean_comments_file_path, columns=[\"comment\"], n_rows=5_000)[\"comment\"].to_list()"
   ]
  },
  {
   "cell_type": "markdown",
   "id": "7b658e08",
   "metadata": {},
   "source": [
    "Trying parallelization with different core count, the current results are from a test with an r5 5600x, a processor with 6 physical cores and 12 logical threads."
   ]
  },
  {
   "cell_type": "code",
   "execution_count": 4,
   "id": "7dda5c4b",
   "metadata": {},
   "outputs": [
    {
     "name": "stdout",
     "output_type": "stream",
     "text": [
      "Processor Name: AMD64 Family 25 Model 33 Stepping 0, AuthenticAMD\n",
      "Physical Cores: 6\n",
      "Logical Cores (Threads): 12\n",
      "Max Frequency (MHz): 3701.0\n",
      "Current Frequency (MHz): 3701.0\n",
      "Architecture: AMD64\n",
      "System: Windows\n",
      "Release: 10\n"
     ]
    }
   ],
   "source": [
    "import platform\n",
    "import psutil\n",
    "\n",
    "def get_cpu_info():\n",
    "    info = {\n",
    "        \"Processor Name\": platform.processor(),\n",
    "        \"Physical Cores\": psutil.cpu_count(logical=False),\n",
    "        \"Logical Cores (Threads)\": psutil.cpu_count(logical=True),\n",
    "        \"Max Frequency (MHz)\": psutil.cpu_freq().max,\n",
    "        \"Current Frequency (MHz)\": psutil.cpu_freq().current,\n",
    "        \"Architecture\": platform.machine(),\n",
    "        \"System\": platform.system(),\n",
    "        \"Release\": platform.release()\n",
    "    }\n",
    "    return info\n",
    "\n",
    "cpu_info = get_cpu_info()\n",
    "\n",
    "for key, value in cpu_info.items():\n",
    "    print(f\"{key}: {value}\")"
   ]
  },
  {
   "cell_type": "markdown",
   "id": "c3a7a1f9",
   "metadata": {},
   "source": [
    "## Running on all processor counts\n",
    "\n",
    "### If you want you can also monitor the usage of your cpu\n",
    "#### On windows - Task manager:\n",
    "1) Task manager, Press `Ctrl + Shift + Esc` to open Task Manager\n",
    "2) Go to **Performance Tab**.\n",
    "3) Click on **CPU** in the left panel.\n",
    "\n",
    "#### On Mac - Activity monitor:\n",
    "1) Go to `Applications/Utilities`.\n",
    "2) Go to **Window** -> **CPU Usage**\n",
    "\n",
    "#### On Linux - htop\n",
    "1) Open the terminal\n",
    "2) Run `htop`, you can install it with `sudo apt install htop` for most linux distributions.\n",
    "\n",
    "Now you can run the code bellow and observe the load on your system."
   ]
  },
  {
   "cell_type": "code",
   "execution_count": 5,
   "id": "d85b8001",
   "metadata": {},
   "outputs": [
    {
     "data": {
      "application/vnd.jupyter.widget-view+json": {
       "model_id": "d617a9dd139c416ab32d930c4d4ff61c",
       "version_major": 2,
       "version_minor": 0
      },
      "text/plain": [
       "  0%|          | 0/5000 [00:00<?, ?it/s]"
      ]
     },
     "metadata": {},
     "output_type": "display_data"
    },
    {
     "name": "stdout",
     "output_type": "stream",
     "text": [
      "Finished translation in 24.53s, 203.81 c/s\n",
      "Cores used 1\n"
     ]
    },
    {
     "data": {
      "application/vnd.jupyter.widget-view+json": {
       "model_id": "3f96139aba114246951ab6031841277b",
       "version_major": 2,
       "version_minor": 0
      },
      "text/plain": [
       "  0%|          | 0/5000 [00:00<?, ?it/s]"
      ]
     },
     "metadata": {},
     "output_type": "display_data"
    },
    {
     "name": "stdout",
     "output_type": "stream",
     "text": [
      "Finished translation in 13.27s, 376.73 c/s\n",
      "Cores used 2\n"
     ]
    },
    {
     "data": {
      "application/vnd.jupyter.widget-view+json": {
       "model_id": "f07442b6ea8d4be3bf360f66388b904d",
       "version_major": 2,
       "version_minor": 0
      },
      "text/plain": [
       "  0%|          | 0/5000 [00:00<?, ?it/s]"
      ]
     },
     "metadata": {},
     "output_type": "display_data"
    },
    {
     "name": "stdout",
     "output_type": "stream",
     "text": [
      "Finished translation in 9.92s, 504.12 c/s\n",
      "Cores used 3\n"
     ]
    },
    {
     "data": {
      "application/vnd.jupyter.widget-view+json": {
       "model_id": "45ac96f4087f4fb5af3f7d9b111fbff7",
       "version_major": 2,
       "version_minor": 0
      },
      "text/plain": [
       "  0%|          | 0/5000 [00:00<?, ?it/s]"
      ]
     },
     "metadata": {},
     "output_type": "display_data"
    },
    {
     "name": "stdout",
     "output_type": "stream",
     "text": [
      "Finished translation in 8.21s, 609.00 c/s\n",
      "Cores used 4\n"
     ]
    },
    {
     "data": {
      "application/vnd.jupyter.widget-view+json": {
       "model_id": "26e7b86a7fa74deda888ea56254a9632",
       "version_major": 2,
       "version_minor": 0
      },
      "text/plain": [
       "  0%|          | 0/5000 [00:00<?, ?it/s]"
      ]
     },
     "metadata": {},
     "output_type": "display_data"
    },
    {
     "name": "stdout",
     "output_type": "stream",
     "text": [
      "Finished translation in 7.32s, 683.16 c/s\n",
      "Cores used 5\n"
     ]
    },
    {
     "data": {
      "application/vnd.jupyter.widget-view+json": {
       "model_id": "8d0266433b1049288fca3b0c4c8b4f75",
       "version_major": 2,
       "version_minor": 0
      },
      "text/plain": [
       "  0%|          | 0/5000 [00:00<?, ?it/s]"
      ]
     },
     "metadata": {},
     "output_type": "display_data"
    },
    {
     "name": "stdout",
     "output_type": "stream",
     "text": [
      "Finished translation in 6.80s, 735.30 c/s\n",
      "Cores used 6\n"
     ]
    },
    {
     "data": {
      "application/vnd.jupyter.widget-view+json": {
       "model_id": "441e9b7e17154cb99fc988967b57a346",
       "version_major": 2,
       "version_minor": 0
      },
      "text/plain": [
       "  0%|          | 0/5000 [00:00<?, ?it/s]"
      ]
     },
     "metadata": {},
     "output_type": "display_data"
    },
    {
     "name": "stdout",
     "output_type": "stream",
     "text": [
      "Finished translation in 6.55s, 762.94 c/s\n",
      "Cores used 7\n"
     ]
    },
    {
     "data": {
      "application/vnd.jupyter.widget-view+json": {
       "model_id": "b3cd42eb3fec4a13ab0667de17dd9db7",
       "version_major": 2,
       "version_minor": 0
      },
      "text/plain": [
       "  0%|          | 0/5000 [00:00<?, ?it/s]"
      ]
     },
     "metadata": {},
     "output_type": "display_data"
    },
    {
     "name": "stdout",
     "output_type": "stream",
     "text": [
      "Finished translation in 6.30s, 794.02 c/s\n",
      "Cores used 8\n"
     ]
    },
    {
     "data": {
      "application/vnd.jupyter.widget-view+json": {
       "model_id": "219f8dc28ff24a5190c931edde253179",
       "version_major": 2,
       "version_minor": 0
      },
      "text/plain": [
       "  0%|          | 0/5000 [00:00<?, ?it/s]"
      ]
     },
     "metadata": {},
     "output_type": "display_data"
    },
    {
     "name": "stdout",
     "output_type": "stream",
     "text": [
      "Finished translation in 6.16s, 812.16 c/s\n",
      "Cores used 9\n"
     ]
    },
    {
     "data": {
      "application/vnd.jupyter.widget-view+json": {
       "model_id": "036f24868c8d4203ac0f82127ba220f0",
       "version_major": 2,
       "version_minor": 0
      },
      "text/plain": [
       "  0%|          | 0/5000 [00:00<?, ?it/s]"
      ]
     },
     "metadata": {},
     "output_type": "display_data"
    },
    {
     "name": "stdout",
     "output_type": "stream",
     "text": [
      "Finished translation in 6.01s, 832.17 c/s\n",
      "Cores used 10\n"
     ]
    },
    {
     "data": {
      "application/vnd.jupyter.widget-view+json": {
       "model_id": "75470a01fae3428fb82df1207df64df9",
       "version_major": 2,
       "version_minor": 0
      },
      "text/plain": [
       "  0%|          | 0/5000 [00:00<?, ?it/s]"
      ]
     },
     "metadata": {},
     "output_type": "display_data"
    },
    {
     "name": "stdout",
     "output_type": "stream",
     "text": [
      "Finished translation in 6.37s, 785.29 c/s\n",
      "Cores used 11\n"
     ]
    },
    {
     "data": {
      "application/vnd.jupyter.widget-view+json": {
       "model_id": "07298baf7ad94f5381d0097d8d8dfd49",
       "version_major": 2,
       "version_minor": 0
      },
      "text/plain": [
       "  0%|          | 0/5000 [00:00<?, ?it/s]"
      ]
     },
     "metadata": {},
     "output_type": "display_data"
    },
    {
     "name": "stdout",
     "output_type": "stream",
     "text": [
      "Finished translation in 6.03s, 829.70 c/s\n",
      "Cores used 12\n"
     ]
    }
   ],
   "source": [
    "for processor_count in range(1, os.cpu_count() + 1):\n",
    "    langs = detect_parallel(comments, max_workers=processor_count)\n",
    "    print(f\"Cores used {processor_count}\")"
   ]
  },
  {
   "cell_type": "code",
   "execution_count": null,
   "id": "9991362e",
   "metadata": {},
   "outputs": [
    {
     "data": {
      "text/html": [
       "<div>\n",
       "<style scoped>\n",
       "    .dataframe tbody tr th:only-of-type {\n",
       "        vertical-align: middle;\n",
       "    }\n",
       "\n",
       "    .dataframe tbody tr th {\n",
       "        vertical-align: top;\n",
       "    }\n",
       "\n",
       "    .dataframe thead th {\n",
       "        text-align: right;\n",
       "    }\n",
       "</style>\n",
       "<table border=\"1\" class=\"dataframe\">\n",
       "  <thead>\n",
       "    <tr style=\"text-align: right;\">\n",
       "      <th></th>\n",
       "      <th>Cores</th>\n",
       "      <th>Throughput_cps</th>\n",
       "      <th>CPU_Usage_%</th>\n",
       "      <th>Efficiency</th>\n",
       "    </tr>\n",
       "  </thead>\n",
       "  <tbody>\n",
       "    <tr>\n",
       "      <th>0</th>\n",
       "      <td>1</td>\n",
       "      <td>204</td>\n",
       "      <td>10</td>\n",
       "      <td>204.000000</td>\n",
       "    </tr>\n",
       "    <tr>\n",
       "      <th>1</th>\n",
       "      <td>2</td>\n",
       "      <td>375</td>\n",
       "      <td>30</td>\n",
       "      <td>187.500000</td>\n",
       "    </tr>\n",
       "    <tr>\n",
       "      <th>2</th>\n",
       "      <td>3</td>\n",
       "      <td>513</td>\n",
       "      <td>50</td>\n",
       "      <td>171.000000</td>\n",
       "    </tr>\n",
       "    <tr>\n",
       "      <th>3</th>\n",
       "      <td>4</td>\n",
       "      <td>614</td>\n",
       "      <td>60</td>\n",
       "      <td>153.500000</td>\n",
       "    </tr>\n",
       "    <tr>\n",
       "      <th>4</th>\n",
       "      <td>5</td>\n",
       "      <td>698</td>\n",
       "      <td>65</td>\n",
       "      <td>139.600000</td>\n",
       "    </tr>\n",
       "    <tr>\n",
       "      <th>5</th>\n",
       "      <td>6</td>\n",
       "      <td>729</td>\n",
       "      <td>70</td>\n",
       "      <td>121.500000</td>\n",
       "    </tr>\n",
       "    <tr>\n",
       "      <th>6</th>\n",
       "      <td>7</td>\n",
       "      <td>768</td>\n",
       "      <td>80</td>\n",
       "      <td>109.714286</td>\n",
       "    </tr>\n",
       "    <tr>\n",
       "      <th>7</th>\n",
       "      <td>8</td>\n",
       "      <td>783</td>\n",
       "      <td>90</td>\n",
       "      <td>97.875000</td>\n",
       "    </tr>\n",
       "    <tr>\n",
       "      <th>8</th>\n",
       "      <td>9</td>\n",
       "      <td>772</td>\n",
       "      <td>95</td>\n",
       "      <td>85.777778</td>\n",
       "    </tr>\n",
       "    <tr>\n",
       "      <th>9</th>\n",
       "      <td>10</td>\n",
       "      <td>804</td>\n",
       "      <td>100</td>\n",
       "      <td>80.400000</td>\n",
       "    </tr>\n",
       "    <tr>\n",
       "      <th>10</th>\n",
       "      <td>11</td>\n",
       "      <td>815</td>\n",
       "      <td>100</td>\n",
       "      <td>74.090909</td>\n",
       "    </tr>\n",
       "    <tr>\n",
       "      <th>11</th>\n",
       "      <td>12</td>\n",
       "      <td>801</td>\n",
       "      <td>100</td>\n",
       "      <td>66.750000</td>\n",
       "    </tr>\n",
       "  </tbody>\n",
       "</table>\n",
       "</div>"
      ],
      "text/plain": [
       "    Cores  Throughput_cps  CPU_Usage_%  Efficiency\n",
       "0       1             204           10  204.000000\n",
       "1       2             375           30  187.500000\n",
       "2       3             513           50  171.000000\n",
       "3       4             614           60  153.500000\n",
       "4       5             698           65  139.600000\n",
       "5       6             729           70  121.500000\n",
       "6       7             768           80  109.714286\n",
       "7       8             783           90   97.875000\n",
       "8       9             772           95   85.777778\n",
       "9      10             804          100   80.400000\n",
       "10     11             815          100   74.090909\n",
       "11     12             801          100   66.750000"
      ]
     },
     "execution_count": 10,
     "metadata": {},
     "output_type": "execute_result"
    }
   ],
   "source": [
    "import pandas as pd\n",
    "\n",
    "# Core scaling results\n",
    "data = {\n",
    "    'Cores': [1, 2, 3, 4, 5, 6, 7, 8, 9, 10, 11, 12],\n",
    "    'Throughput_cps': [204, 375, 513, 614, 698, 729, 768, 783, 772, 804, 815, 801],\n",
    "    'CPU_Usage_%': [10, 30, 50, 60, 65, 70, 80, 90, 95, 100, 100, 100]  # Estimated from your task manager\n",
    "}\n",
    "\n",
    "df = pd.DataFrame(data)\n",
    "df['Efficiency'] = df['Throughput_cps'] / df['Cores']\n",
    "df"
   ]
  },
  {
   "cell_type": "code",
   "execution_count": 11,
   "id": "1fc3aac4",
   "metadata": {},
   "outputs": [
    {
     "data": {
      "image/png": "[encoded data removed]",
      "text/plain": [
       "<Figure size 1000x600 with 1 Axes>"
      ]
     },
     "metadata": {},
     "output_type": "display_data"
    }
   ],
   "source": [
    "import seaborn as sns\n",
    "import matplotlib.pyplot as plt\n",
    "\n",
    "sns.set(style=\"whitegrid\", palette=\"muted\", font_scale=1.1)\n",
    "\n",
    "fig, ax = plt.subplots(figsize=(10, 6))\n",
    "\n",
    "# Throughput line\n",
    "sns.lineplot(data=df, x='Cores', y='Throughput_cps', marker='o', label='Throughput (comments/sec)', ax=ax)\n",
    "\n",
    "# Efficiency line\n",
    "sns.lineplot(data=df, x='Cores', y='Efficiency', marker='s', label='Efficiency (c/s per core)', ax=ax)\n",
    "\n",
    "ax.axvline(x=7, color='gray', linestyle='--', alpha=0.6)\n",
    "\n",
    "# Labels\n",
    "ax.set_title(\"Language Detection Scaling with langdetect\", fontsize=14)\n",
    "ax.set_xlabel(\"Number of Cores\")\n",
    "ax.set_ylabel(\"Throughput / Efficiency\")\n",
    "ax.legend()\n",
    "plt.tight_layout()\n",
    "# plt.show()"
   ]
  },
  {
   "cell_type": "markdown",
   "id": "e9792ffa",
   "metadata": {},
   "source": [
    "Check individual comments performance"
   ]
  },
  {
   "cell_type": "code",
   "execution_count": 12,
   "id": "f74bd570",
   "metadata": {},
   "outputs": [],
   "source": [
    "res = list(zip(comments, langs))"
   ]
  },
  {
   "cell_type": "code",
   "execution_count": 17,
   "id": "12b340f4",
   "metadata": {},
   "outputs": [
    {
     "data": {
      "text/plain": [
       "[('AB Monsur American Goatsbeard flowers, look them up. Also your silence towards my last comment (where I listed tons of facts supporting evolution) is noted.',\n",
       "  'en'),\n",
       " (\"Isn't a TARDIS a telephone booth? I don't see it.\", 'en'),\n",
       " ('Sounds like this planet was terraformed and we are the result! 😅😂😂😅😂😂',\n",
       "  'en')]"
      ]
     },
     "execution_count": 17,
     "metadata": {},
     "output_type": "execute_result"
    }
   ],
   "source": [
    "random.sample(res, k = 3)"
   ]
  },
  {
   "cell_type": "markdown",
   "id": "c058e1ef",
   "metadata": {},
   "source": [
    "How many languages we've got?"
   ]
  },
  {
   "cell_type": "code",
   "execution_count": 21,
   "id": "3b326a49",
   "metadata": {},
   "outputs": [
    {
     "data": {
      "text/plain": [
       "[('en', 3994),\n",
       " ('und', 616),\n",
       " ('de', 56),\n",
       " ('so', 32),\n",
       " ('es', 24),\n",
       " ('fr', 22),\n",
       " ('tl', 21),\n",
       " ('id', 20),\n",
       " ('cy', 19),\n",
       " ('tr', 16)]"
      ]
     },
     "execution_count": 21,
     "metadata": {},
     "output_type": "execute_result"
    }
   ],
   "source": [
    "Counter(langs).most_common(10)"
   ]
  },
  {
   "cell_type": "markdown",
   "id": "0a2e663a",
   "metadata": {},
   "source": [
    "Note tha the \"und\" is not a small proportion. The library `langdetect` is not specially good in very short texts, and typos or slangs can confuse the model. For more accurate results, the use of other models is adviced, although langdetect is still useful due to its simplicity and multi platform friendliness."
   ]
  }
 ],
 "metadata": {
  "kernelspec": {
   "display_name": "youtube-nlp",
   "language": "python",
   "name": "python3"
  },
  "language_info": {
   "codemirror_mode": {
    "name": "ipython",
    "version": 3
   },
   "file_extension": ".py",
   "mimetype": "text/x-python",
   "name": "python",
   "nbconvert_exporter": "python",
   "pygments_lexer": "ipython3",
   "version": "3.10.18"
  }
 },
 "nbformat": 4,
 "nbformat_minor": 5
}
