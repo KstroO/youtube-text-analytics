{
 "cells": [
  {
   "cell_type": "markdown",
   "id": "c703f20a",
   "metadata": {},
   "source": [
    "# Pandas Profiling\n",
    "There is an excellent tool for `Exploratory Data Analysis` (EDA) in python, it is not compatible with polars so we will be using pandas for this part.\n",
    "\n",
    "EDA is helpful as it displays an overview of our data, like histograms, duplicates, null counts, basic statistics like mean, median, etc.\n",
    "\n",
    "It is very basic, but for a starter tool is a solid choice."
   ]
  },
  {
   "cell_type": "code",
   "execution_count": null,
   "id": "350aa32e",
   "metadata": {},
   "outputs": [
    {
     "data": {
      "text/html": [
       "\n",
       "            <div>\n",
       "                <ins><a href=\"https://ydata.ai/register\">Upgrade to ydata-sdk</a></ins>\n",
       "                <p>\n",
       "                    Improve your data and profiling with ydata-sdk, featuring data quality scoring, redundancy detection, outlier identification, text validation, and synthetic data generation.\n",
       "                </p>\n",
       "            </div>\n",
       "            "
      ],
      "text/plain": [
       "<IPython.core.display.HTML object>"
      ]
     },
     "metadata": {},
     "output_type": "display_data"
    }
   ],
   "source": [
    "from ydata_profiling import ProfileReport\n",
    "import pandas as pd\n",
    "import numpy as np\n",
    "from datetime import date\n",
    "import os\n",
    "import sys\n",
    "\n",
    "sys.path.append(os.path.abspath(os.path.join(os.getcwd(), \"..\")))\n",
    "import config\n",
    "from paths import Paths\n"
   ]
  },
  {
   "cell_type": "markdown",
   "id": "60848b4a",
   "metadata": {},
   "source": [
    "# Select columns\n",
    "We would not want to add all columns to the profiler, since some of them can be hard to process, like the comment itself; pandas profiling doesn't handle text very well, but we will perform a special analysis on the text later."
   ]
  },
  {
   "cell_type": "code",
   "execution_count": 9,
   "id": "016f8d00",
   "metadata": {},
   "outputs": [],
   "source": [
    "columns = [\"reply_count\", \"author\", \"likes\", \"published_at\",\n",
    "           \"parent_id\", \"is_reply\", \"comment_length\", \"word_count\", \"emoji_count\", \"script\"]"
   ]
  },
  {
   "cell_type": "markdown",
   "id": "15e8dd92",
   "metadata": {},
   "source": [
    "# Load All files\n",
    "The `Paths` class (from `src`) provides a way to identify all the clean comment files in a single list. It reads the channel handle and iterates over all dates, producing an array of files, from which we can read and concatenate in a single pandas dataframe.\n",
    "\n",
    "You may wonder if this is a memory intensive process, since we are joining the data of all processed days: **not really**, remember that we are not loading the `comment` or other columns that may be related (like `author_id` and `author`, so we keep only `author` here)."
   ]
  },
  {
   "cell_type": "code",
   "execution_count": null,
   "id": "f01fa9f1",
   "metadata": {},
   "outputs": [],
   "source": [
    "channel_paths = Paths(channel_handle=config.channel_handle)\n",
    "dfs = [pd.read_parquet(file, columns=columns) for file in channel_paths.list_processed_files()]"
   ]
  },
  {
   "cell_type": "code",
   "execution_count": null,
   "id": "550aef58",
   "metadata": {},
   "outputs": [],
   "source": [
    "# Join into a single dataframe, and delete the previous pointer\n",
    "df = pd.concat(dfs, ignore_index=True)\n",
    "del dfs"
   ]
  },
  {
   "cell_type": "markdown",
   "id": "0270a9f0",
   "metadata": {},
   "source": [
    "### Profile report generation\n",
    "Pandas profiler is so simple to use, we only need to pass the dataframe directly into the profiler."
   ]
  },
  {
   "cell_type": "code",
   "execution_count": 13,
   "id": "3d18c8c4",
   "metadata": {},
   "outputs": [],
   "source": [
    "profile = ProfileReport(df, title=\"YouTube Comments EDA\", explorative=True)"
   ]
  },
  {
   "cell_type": "markdown",
   "id": "fd075552",
   "metadata": {},
   "source": [
    "The profiler offers two options for display, save to file or embed the outputs directly into the notebook.\n",
    "1) Saving to a file will generate an html file \n",
    "2) Displaying in the notebook generates it right bellow the execution cell, but there may issues at reloading the profiler information at a later time."
   ]
  },
  {
   "cell_type": "code",
   "execution_count": null,
   "id": "bb3023fa",
   "metadata": {},
   "outputs": [
    {
     "data": {
      "application/vnd.jupyter.widget-view+json": {
       "model_id": "084c47ba19504630aa6d6e69d709eab2",
       "version_major": 2,
       "version_minor": 0
      },
      "text/plain": [
       "Summarize dataset:   0%|          | 0/5 [00:00<?, ?it/s]"
      ]
     },
     "metadata": {},
     "output_type": "display_data"
    },
    {
     "name": "stderr",
     "output_type": "stream",
     "text": [
      "100%|██████████| 10/10 [00:32<00:00,  3.20s/it]\n"
     ]
    },
    {
     "data": {
      "application/vnd.jupyter.widget-view+json": {
       "model_id": "e4e7f5b94a044a34b99a193bc0ab1d1e",
       "version_major": 2,
       "version_minor": 0
      },
      "text/plain": [
       "Generate report structure:   0%|          | 0/1 [00:00<?, ?it/s]"
      ]
     },
     "metadata": {},
     "output_type": "display_data"
    },
    {
     "data": {
      "application/vnd.jupyter.widget-view+json": {
       "model_id": "69c587863f714cc1967707d4fb0c3217",
       "version_major": 2,
       "version_minor": 0
      },
      "text/plain": [
       "Render HTML:   0%|          | 0/1 [00:00<?, ?it/s]"
      ]
     },
     "metadata": {},
     "output_type": "display_data"
    },
    {
     "data": {
      "application/vnd.jupyter.widget-view+json": {
       "model_id": "e9a2441abeb84054b5d6b80c645c7717",
       "version_major": 2,
       "version_minor": 0
      },
      "text/plain": [
       "Export report to file:   0%|          | 0/1 [00:00<?, ?it/s]"
      ]
     },
     "metadata": {},
     "output_type": "display_data"
    }
   ],
   "source": [
    "\n",
    "# Save to file\n",
    "profile.to_file(os.path.join(channel_paths.results_dir, f\"{config.channel_handle}_profiling.html\"))\n",
    "\n",
    "# Display right bellow\n",
    "# profile.to_notebook_iframe()"
   ]
  }
 ],
 "metadata": {
  "kernelspec": {
   "display_name": "youtube-nlp",
   "language": "python",
   "name": "python3"
  },
  "language_info": {
   "codemirror_mode": {
    "name": "ipython",
    "version": 3
   },
   "file_extension": ".py",
   "mimetype": "text/x-python",
   "name": "python",
   "nbconvert_exporter": "python",
   "pygments_lexer": "ipython3",
   "version": "3.10.18"
  }
 },
 "nbformat": 4,
 "nbformat_minor": 5
}
